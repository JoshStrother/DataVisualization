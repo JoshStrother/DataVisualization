{
  "nbformat": 4,
  "nbformat_minor": 0,
  "metadata": {
    "colab": {
      "name": "lesson7.ipynb",
      "provenance": [],
      "authorship_tag": "ABX9TyOpVoAvz4ZpgDhttSEI4S+8",
      "include_colab_link": true
    },
    "kernelspec": {
      "name": "python3",
      "display_name": "Python 3"
    },
    "language_info": {
      "name": "python"
    }
  },
  "cells": [
    {
      "cell_type": "markdown",
      "metadata": {
        "id": "view-in-github",
        "colab_type": "text"
      },
      "source": [
        "<a href=\"https://colab.research.google.com/github/JoshStrother/DataVisualization/blob/main/lesson7.ipynb\" target=\"_parent\"><img src=\"https://colab.research.google.com/assets/colab-badge.svg\" alt=\"Open In Colab\"/></a>"
      ]
    },
    {
      "cell_type": "code",
      "execution_count": 1,
      "metadata": {
        "colab": {
          "base_uri": "https://localhost:8080/"
        },
        "id": "t5xxSYR8-jY3",
        "outputId": "6ca4ec57-8dc4-4da6-dfcc-e29793beeefc"
      },
      "outputs": [
        {
          "output_type": "stream",
          "name": "stdout",
          "text": [
            "Authenticated\n"
          ]
        }
      ],
      "source": [
        "from google.colab import auth\n",
        "auth.authenticate_user()\n",
        "print('Authenticated')"
      ]
    },
    {
      "cell_type": "markdown",
      "source": [
        "Our question is: What type of subscription is the most popular? Any thoughts as to why this might be? The second part to this is how much time in years, months,days, hours and minutes total have been completed by this subscriber type?"
      ],
      "metadata": {
        "id": "4PYCXeqqLc2V"
      }
    },
    {
      "cell_type": "markdown",
      "source": [
        "The first thing we will do is get the table that has our subscriber types on it."
      ],
      "metadata": {
        "id": "S15bdtUJMc7B"
      }
    },
    {
      "cell_type": "code",
      "source": [
        "%%bigquery --project data-viz-338716\n",
        "\n",
        "SELECT*\n",
        "FROM `bigquery-public-data.austin_bikeshare.bikeshare_trips`\n",
        "LIMIT 10"
      ],
      "metadata": {
        "colab": {
          "base_uri": "https://localhost:8080/",
          "height": 363
        },
        "id": "tpjiBFJx-o7W",
        "outputId": "b1d1280a-8815-4bf6-c387-7434bb7afcfc"
      },
      "execution_count": 10,
      "outputs": [
        {
          "output_type": "execute_result",
          "data": {
            "text/html": [
              "\n",
              "  <div id=\"df-e6694a17-54dc-494e-b588-49e44cd8e688\">\n",
              "    <div class=\"colab-df-container\">\n",
              "      <div>\n",
              "<style scoped>\n",
              "    .dataframe tbody tr th:only-of-type {\n",
              "        vertical-align: middle;\n",
              "    }\n",
              "\n",
              "    .dataframe tbody tr th {\n",
              "        vertical-align: top;\n",
              "    }\n",
              "\n",
              "    .dataframe thead th {\n",
              "        text-align: right;\n",
              "    }\n",
              "</style>\n",
              "<table border=\"1\" class=\"dataframe\">\n",
              "  <thead>\n",
              "    <tr style=\"text-align: right;\">\n",
              "      <th></th>\n",
              "      <th>trip_id</th>\n",
              "      <th>subscriber_type</th>\n",
              "      <th>bikeid</th>\n",
              "      <th>start_time</th>\n",
              "      <th>start_station_id</th>\n",
              "      <th>start_station_name</th>\n",
              "      <th>end_station_id</th>\n",
              "      <th>end_station_name</th>\n",
              "      <th>duration_minutes</th>\n",
              "    </tr>\n",
              "  </thead>\n",
              "  <tbody>\n",
              "    <tr>\n",
              "      <th>0</th>\n",
              "      <td>9900289692</td>\n",
              "      <td>Walk Up</td>\n",
              "      <td>248</td>\n",
              "      <td>2015-10-02 21:12:01+00:00</td>\n",
              "      <td>1006</td>\n",
              "      <td>Zilker Park West</td>\n",
              "      <td>1008</td>\n",
              "      <td>Nueces @ 3rd</td>\n",
              "      <td>39</td>\n",
              "    </tr>\n",
              "    <tr>\n",
              "      <th>1</th>\n",
              "      <td>9900285987</td>\n",
              "      <td>24-Hour Kiosk (Austin B-cycle)</td>\n",
              "      <td>446</td>\n",
              "      <td>2014-10-26 15:12:00+00:00</td>\n",
              "      <td>2712</td>\n",
              "      <td>Toomey Rd @ South Lamar</td>\n",
              "      <td>2712</td>\n",
              "      <td>Toomey Rd @ South Lamar</td>\n",
              "      <td>31</td>\n",
              "    </tr>\n",
              "    <tr>\n",
              "      <th>2</th>\n",
              "      <td>9900285989</td>\n",
              "      <td>24-Hour Kiosk (Austin B-cycle)</td>\n",
              "      <td>203</td>\n",
              "      <td>2014-10-26 15:12:00+00:00</td>\n",
              "      <td>2712</td>\n",
              "      <td>Toomey Rd @ South Lamar</td>\n",
              "      <td>2712</td>\n",
              "      <td>Toomey Rd @ South Lamar</td>\n",
              "      <td>31</td>\n",
              "    </tr>\n",
              "    <tr>\n",
              "      <th>3</th>\n",
              "      <td>9900285991</td>\n",
              "      <td>24-Hour Kiosk (Austin B-cycle)</td>\n",
              "      <td>101</td>\n",
              "      <td>2014-10-26 15:12:00+00:00</td>\n",
              "      <td>2712</td>\n",
              "      <td>Toomey Rd @ South Lamar</td>\n",
              "      <td>2712</td>\n",
              "      <td>Toomey Rd @ South Lamar</td>\n",
              "      <td>30</td>\n",
              "    </tr>\n",
              "    <tr>\n",
              "      <th>4</th>\n",
              "      <td>9900286140</td>\n",
              "      <td>24-Hour Kiosk (Austin B-cycle)</td>\n",
              "      <td>242</td>\n",
              "      <td>2014-10-26 18:12:00+00:00</td>\n",
              "      <td>2541</td>\n",
              "      <td>State Capitol @ 14th &amp; Colorado</td>\n",
              "      <td>2541</td>\n",
              "      <td>State Capitol @ 14th &amp; Colorado</td>\n",
              "      <td>19</td>\n",
              "    </tr>\n",
              "    <tr>\n",
              "      <th>5</th>\n",
              "      <td>9900286143</td>\n",
              "      <td>24-Hour Kiosk (Austin B-cycle)</td>\n",
              "      <td>924</td>\n",
              "      <td>2014-10-26 18:12:00+00:00</td>\n",
              "      <td>2541</td>\n",
              "      <td>State Capitol @ 14th &amp; Colorado</td>\n",
              "      <td>2541</td>\n",
              "      <td>State Capitol @ 14th &amp; Colorado</td>\n",
              "      <td>17</td>\n",
              "    </tr>\n",
              "    <tr>\n",
              "      <th>6</th>\n",
              "      <td>9900286171</td>\n",
              "      <td>24-Hour Kiosk (Austin B-cycle)</td>\n",
              "      <td>869</td>\n",
              "      <td>2014-10-26 18:12:00+00:00</td>\n",
              "      <td>2536</td>\n",
              "      <td>Waller &amp; 6th St.</td>\n",
              "      <td>2536</td>\n",
              "      <td>Waller &amp; 6th St.</td>\n",
              "      <td>6</td>\n",
              "    </tr>\n",
              "    <tr>\n",
              "      <th>7</th>\n",
              "      <td>9900286214</td>\n",
              "      <td>Annual Membership (Austin B-cycle)</td>\n",
              "      <td>24</td>\n",
              "      <td>2014-10-26 20:12:00+00:00</td>\n",
              "      <td>2712</td>\n",
              "      <td>Toomey Rd @ South Lamar</td>\n",
              "      <td>2712</td>\n",
              "      <td>Toomey Rd @ South Lamar</td>\n",
              "      <td>0</td>\n",
              "    </tr>\n",
              "    <tr>\n",
              "      <th>8</th>\n",
              "      <td>9900286540</td>\n",
              "      <td>24-Hour Kiosk (Austin B-cycle)</td>\n",
              "      <td>117</td>\n",
              "      <td>2014-10-27 15:12:00+00:00</td>\n",
              "      <td>2536</td>\n",
              "      <td>Waller &amp; 6th St.</td>\n",
              "      <td>2536</td>\n",
              "      <td>Waller &amp; 6th St.</td>\n",
              "      <td>12</td>\n",
              "    </tr>\n",
              "    <tr>\n",
              "      <th>9</th>\n",
              "      <td>13575843</td>\n",
              "      <td>Walk Up</td>\n",
              "      <td>302</td>\n",
              "      <td>2017-01-29 16:42:52+00:00</td>\n",
              "      <td>3464</td>\n",
              "      <td>Pease Park</td>\n",
              "      <td>3464</td>\n",
              "      <td>Pease Park</td>\n",
              "      <td>47</td>\n",
              "    </tr>\n",
              "  </tbody>\n",
              "</table>\n",
              "</div>\n",
              "      <button class=\"colab-df-convert\" onclick=\"convertToInteractive('df-e6694a17-54dc-494e-b588-49e44cd8e688')\"\n",
              "              title=\"Convert this dataframe to an interactive table.\"\n",
              "              style=\"display:none;\">\n",
              "        \n",
              "  <svg xmlns=\"http://www.w3.org/2000/svg\" height=\"24px\"viewBox=\"0 0 24 24\"\n",
              "       width=\"24px\">\n",
              "    <path d=\"M0 0h24v24H0V0z\" fill=\"none\"/>\n",
              "    <path d=\"M18.56 5.44l.94 2.06.94-2.06 2.06-.94-2.06-.94-.94-2.06-.94 2.06-2.06.94zm-11 1L8.5 8.5l.94-2.06 2.06-.94-2.06-.94L8.5 2.5l-.94 2.06-2.06.94zm10 10l.94 2.06.94-2.06 2.06-.94-2.06-.94-.94-2.06-.94 2.06-2.06.94z\"/><path d=\"M17.41 7.96l-1.37-1.37c-.4-.4-.92-.59-1.43-.59-.52 0-1.04.2-1.43.59L10.3 9.45l-7.72 7.72c-.78.78-.78 2.05 0 2.83L4 21.41c.39.39.9.59 1.41.59.51 0 1.02-.2 1.41-.59l7.78-7.78 2.81-2.81c.8-.78.8-2.07 0-2.86zM5.41 20L4 18.59l7.72-7.72 1.47 1.35L5.41 20z\"/>\n",
              "  </svg>\n",
              "      </button>\n",
              "      \n",
              "  <style>\n",
              "    .colab-df-container {\n",
              "      display:flex;\n",
              "      flex-wrap:wrap;\n",
              "      gap: 12px;\n",
              "    }\n",
              "\n",
              "    .colab-df-convert {\n",
              "      background-color: #E8F0FE;\n",
              "      border: none;\n",
              "      border-radius: 50%;\n",
              "      cursor: pointer;\n",
              "      display: none;\n",
              "      fill: #1967D2;\n",
              "      height: 32px;\n",
              "      padding: 0 0 0 0;\n",
              "      width: 32px;\n",
              "    }\n",
              "\n",
              "    .colab-df-convert:hover {\n",
              "      background-color: #E2EBFA;\n",
              "      box-shadow: 0px 1px 2px rgba(60, 64, 67, 0.3), 0px 1px 3px 1px rgba(60, 64, 67, 0.15);\n",
              "      fill: #174EA6;\n",
              "    }\n",
              "\n",
              "    [theme=dark] .colab-df-convert {\n",
              "      background-color: #3B4455;\n",
              "      fill: #D2E3FC;\n",
              "    }\n",
              "\n",
              "    [theme=dark] .colab-df-convert:hover {\n",
              "      background-color: #434B5C;\n",
              "      box-shadow: 0px 1px 3px 1px rgba(0, 0, 0, 0.15);\n",
              "      filter: drop-shadow(0px 1px 2px rgba(0, 0, 0, 0.3));\n",
              "      fill: #FFFFFF;\n",
              "    }\n",
              "  </style>\n",
              "\n",
              "      <script>\n",
              "        const buttonEl =\n",
              "          document.querySelector('#df-e6694a17-54dc-494e-b588-49e44cd8e688 button.colab-df-convert');\n",
              "        buttonEl.style.display =\n",
              "          google.colab.kernel.accessAllowed ? 'block' : 'none';\n",
              "\n",
              "        async function convertToInteractive(key) {\n",
              "          const element = document.querySelector('#df-e6694a17-54dc-494e-b588-49e44cd8e688');\n",
              "          const dataTable =\n",
              "            await google.colab.kernel.invokeFunction('convertToInteractive',\n",
              "                                                     [key], {});\n",
              "          if (!dataTable) return;\n",
              "\n",
              "          const docLinkHtml = 'Like what you see? Visit the ' +\n",
              "            '<a target=\"_blank\" href=https://colab.research.google.com/notebooks/data_table.ipynb>data table notebook</a>'\n",
              "            + ' to learn more about interactive tables.';\n",
              "          element.innerHTML = '';\n",
              "          dataTable['output_type'] = 'display_data';\n",
              "          await google.colab.output.renderOutput(dataTable, element);\n",
              "          const docLink = document.createElement('div');\n",
              "          docLink.innerHTML = docLinkHtml;\n",
              "          element.appendChild(docLink);\n",
              "        }\n",
              "      </script>\n",
              "    </div>\n",
              "  </div>\n",
              "  "
            ],
            "text/plain": [
              "      trip_id  ... duration_minutes\n",
              "0  9900289692  ...               39\n",
              "1  9900285987  ...               31\n",
              "2  9900285989  ...               31\n",
              "3  9900285991  ...               30\n",
              "4  9900286140  ...               19\n",
              "5  9900286143  ...               17\n",
              "6  9900286171  ...                6\n",
              "7  9900286214  ...                0\n",
              "8  9900286540  ...               12\n",
              "9    13575843  ...               47\n",
              "\n",
              "[10 rows x 9 columns]"
            ]
          },
          "metadata": {},
          "execution_count": 10
        }
      ]
    },
    {
      "cell_type": "markdown",
      "source": [
        "Okay now we will bring out only the sub type and count how many times it appears.  We will also order this by DESC in order to get greaters amount of subs to least."
      ],
      "metadata": {
        "id": "-hQarkgeMqrX"
      }
    },
    {
      "cell_type": "code",
      "source": [
        "%%bigquery --project data-viz-338716\n",
        "\n",
        "SELECT subscriber_type, COUNT(subscriber_type) as num_of_sub\n",
        "FROM `bigquery-public-data.austin_bikeshare.bikeshare_trips`\n",
        "GROUP BY subscriber_type\n",
        "ORDER BY num_of_sub DESC"
      ],
      "metadata": {
        "colab": {
          "base_uri": "https://localhost:8080/",
          "height": 424
        },
        "id": "DABir40o-_1H",
        "outputId": "aefda21b-5151-422b-c430-075903e12f3c"
      },
      "execution_count": 7,
      "outputs": [
        {
          "output_type": "execute_result",
          "data": {
            "text/html": [
              "\n",
              "  <div id=\"df-10f03279-7fae-4b22-a40b-9b06b0eed247\">\n",
              "    <div class=\"colab-df-container\">\n",
              "      <div>\n",
              "<style scoped>\n",
              "    .dataframe tbody tr th:only-of-type {\n",
              "        vertical-align: middle;\n",
              "    }\n",
              "\n",
              "    .dataframe tbody tr th {\n",
              "        vertical-align: top;\n",
              "    }\n",
              "\n",
              "    .dataframe thead th {\n",
              "        text-align: right;\n",
              "    }\n",
              "</style>\n",
              "<table border=\"1\" class=\"dataframe\">\n",
              "  <thead>\n",
              "    <tr style=\"text-align: right;\">\n",
              "      <th></th>\n",
              "      <th>subscriber_type</th>\n",
              "      <th>num_of_sub</th>\n",
              "    </tr>\n",
              "  </thead>\n",
              "  <tbody>\n",
              "    <tr>\n",
              "      <th>0</th>\n",
              "      <td>Walk Up</td>\n",
              "      <td>374151</td>\n",
              "    </tr>\n",
              "    <tr>\n",
              "      <th>1</th>\n",
              "      <td>U.T. Student Membership</td>\n",
              "      <td>289288</td>\n",
              "    </tr>\n",
              "    <tr>\n",
              "      <th>2</th>\n",
              "      <td>Local365</td>\n",
              "      <td>260376</td>\n",
              "    </tr>\n",
              "    <tr>\n",
              "      <th>3</th>\n",
              "      <td>24-Hour Kiosk (Austin B-cycle)</td>\n",
              "      <td>108672</td>\n",
              "    </tr>\n",
              "    <tr>\n",
              "      <th>4</th>\n",
              "      <td>Local30</td>\n",
              "      <td>69062</td>\n",
              "    </tr>\n",
              "    <tr>\n",
              "      <th>...</th>\n",
              "      <td>...</td>\n",
              "      <td>...</td>\n",
              "    </tr>\n",
              "    <tr>\n",
              "      <th>72</th>\n",
              "      <td>Annual Pass (30 minute)</td>\n",
              "      <td>2</td>\n",
              "    </tr>\n",
              "    <tr>\n",
              "      <th>73</th>\n",
              "      <td>24-Hour Membership (Austin B-cycle)</td>\n",
              "      <td>1</td>\n",
              "    </tr>\n",
              "    <tr>\n",
              "      <th>74</th>\n",
              "      <td>Heartland Pass (Annual Pay)</td>\n",
              "      <td>1</td>\n",
              "    </tr>\n",
              "    <tr>\n",
              "      <th>75</th>\n",
              "      <td>Heartland Pass (Monthly Pay)</td>\n",
              "      <td>1</td>\n",
              "    </tr>\n",
              "    <tr>\n",
              "      <th>76</th>\n",
              "      <td>None</td>\n",
              "      <td>0</td>\n",
              "    </tr>\n",
              "  </tbody>\n",
              "</table>\n",
              "<p>77 rows × 2 columns</p>\n",
              "</div>\n",
              "      <button class=\"colab-df-convert\" onclick=\"convertToInteractive('df-10f03279-7fae-4b22-a40b-9b06b0eed247')\"\n",
              "              title=\"Convert this dataframe to an interactive table.\"\n",
              "              style=\"display:none;\">\n",
              "        \n",
              "  <svg xmlns=\"http://www.w3.org/2000/svg\" height=\"24px\"viewBox=\"0 0 24 24\"\n",
              "       width=\"24px\">\n",
              "    <path d=\"M0 0h24v24H0V0z\" fill=\"none\"/>\n",
              "    <path d=\"M18.56 5.44l.94 2.06.94-2.06 2.06-.94-2.06-.94-.94-2.06-.94 2.06-2.06.94zm-11 1L8.5 8.5l.94-2.06 2.06-.94-2.06-.94L8.5 2.5l-.94 2.06-2.06.94zm10 10l.94 2.06.94-2.06 2.06-.94-2.06-.94-.94-2.06-.94 2.06-2.06.94z\"/><path d=\"M17.41 7.96l-1.37-1.37c-.4-.4-.92-.59-1.43-.59-.52 0-1.04.2-1.43.59L10.3 9.45l-7.72 7.72c-.78.78-.78 2.05 0 2.83L4 21.41c.39.39.9.59 1.41.59.51 0 1.02-.2 1.41-.59l7.78-7.78 2.81-2.81c.8-.78.8-2.07 0-2.86zM5.41 20L4 18.59l7.72-7.72 1.47 1.35L5.41 20z\"/>\n",
              "  </svg>\n",
              "      </button>\n",
              "      \n",
              "  <style>\n",
              "    .colab-df-container {\n",
              "      display:flex;\n",
              "      flex-wrap:wrap;\n",
              "      gap: 12px;\n",
              "    }\n",
              "\n",
              "    .colab-df-convert {\n",
              "      background-color: #E8F0FE;\n",
              "      border: none;\n",
              "      border-radius: 50%;\n",
              "      cursor: pointer;\n",
              "      display: none;\n",
              "      fill: #1967D2;\n",
              "      height: 32px;\n",
              "      padding: 0 0 0 0;\n",
              "      width: 32px;\n",
              "    }\n",
              "\n",
              "    .colab-df-convert:hover {\n",
              "      background-color: #E2EBFA;\n",
              "      box-shadow: 0px 1px 2px rgba(60, 64, 67, 0.3), 0px 1px 3px 1px rgba(60, 64, 67, 0.15);\n",
              "      fill: #174EA6;\n",
              "    }\n",
              "\n",
              "    [theme=dark] .colab-df-convert {\n",
              "      background-color: #3B4455;\n",
              "      fill: #D2E3FC;\n",
              "    }\n",
              "\n",
              "    [theme=dark] .colab-df-convert:hover {\n",
              "      background-color: #434B5C;\n",
              "      box-shadow: 0px 1px 3px 1px rgba(0, 0, 0, 0.15);\n",
              "      filter: drop-shadow(0px 1px 2px rgba(0, 0, 0, 0.3));\n",
              "      fill: #FFFFFF;\n",
              "    }\n",
              "  </style>\n",
              "\n",
              "      <script>\n",
              "        const buttonEl =\n",
              "          document.querySelector('#df-10f03279-7fae-4b22-a40b-9b06b0eed247 button.colab-df-convert');\n",
              "        buttonEl.style.display =\n",
              "          google.colab.kernel.accessAllowed ? 'block' : 'none';\n",
              "\n",
              "        async function convertToInteractive(key) {\n",
              "          const element = document.querySelector('#df-10f03279-7fae-4b22-a40b-9b06b0eed247');\n",
              "          const dataTable =\n",
              "            await google.colab.kernel.invokeFunction('convertToInteractive',\n",
              "                                                     [key], {});\n",
              "          if (!dataTable) return;\n",
              "\n",
              "          const docLinkHtml = 'Like what you see? Visit the ' +\n",
              "            '<a target=\"_blank\" href=https://colab.research.google.com/notebooks/data_table.ipynb>data table notebook</a>'\n",
              "            + ' to learn more about interactive tables.';\n",
              "          element.innerHTML = '';\n",
              "          dataTable['output_type'] = 'display_data';\n",
              "          await google.colab.output.renderOutput(dataTable, element);\n",
              "          const docLink = document.createElement('div');\n",
              "          docLink.innerHTML = docLinkHtml;\n",
              "          element.appendChild(docLink);\n",
              "        }\n",
              "      </script>\n",
              "    </div>\n",
              "  </div>\n",
              "  "
            ],
            "text/plain": [
              "                        subscriber_type  num_of_sub\n",
              "0                               Walk Up      374151\n",
              "1               U.T. Student Membership      289288\n",
              "2                              Local365      260376\n",
              "3        24-Hour Kiosk (Austin B-cycle)      108672\n",
              "4                               Local30       69062\n",
              "..                                  ...         ...\n",
              "72              Annual Pass (30 minute)           2\n",
              "73  24-Hour Membership (Austin B-cycle)           1\n",
              "74          Heartland Pass (Annual Pay)           1\n",
              "75         Heartland Pass (Monthly Pay)           1\n",
              "76                                 None           0\n",
              "\n",
              "[77 rows x 2 columns]"
            ]
          },
          "metadata": {},
          "execution_count": 7
        }
      ]
    },
    {
      "cell_type": "markdown",
      "source": [
        "After viewing the data is looks like walk ups are the most common kind of subscirber.  Which makes since because sometimes you may need to borrow a bike just that one wether it be that your car is broke down or you just want a nature ride out of the house.  "
      ],
      "metadata": {
        "id": "_XqWghhCM3H6"
      }
    },
    {
      "cell_type": "markdown",
      "source": [
        "Next we need to gather just the walk up duration sum and then convert that into years, months, days, hours, minutes.  This is the hard part... so first of all im going to just see how many minutes in total there are."
      ],
      "metadata": {
        "id": "3J-8oUC8Nl6g"
      }
    },
    {
      "cell_type": "code",
      "source": [
        "%%bigquery --project data-viz-338716\n",
        "\n",
        "SELECT SUM(duration_minutes) as total_time\n",
        "FROM `bigquery-public-data.austin_bikeshare.bikeshare_trips`\n",
        "WHERE subscriber_type = 'Walk Up'"
      ],
      "metadata": {
        "colab": {
          "base_uri": "https://localhost:8080/",
          "height": 81
        },
        "id": "R_KkNP1dNm88",
        "outputId": "500f338b-065d-4980-cf30-db50f480fb49"
      },
      "execution_count": 13,
      "outputs": [
        {
          "output_type": "execute_result",
          "data": {
            "text/html": [
              "\n",
              "  <div id=\"df-54cc93c5-ed87-48dc-87ed-da241251ff4b\">\n",
              "    <div class=\"colab-df-container\">\n",
              "      <div>\n",
              "<style scoped>\n",
              "    .dataframe tbody tr th:only-of-type {\n",
              "        vertical-align: middle;\n",
              "    }\n",
              "\n",
              "    .dataframe tbody tr th {\n",
              "        vertical-align: top;\n",
              "    }\n",
              "\n",
              "    .dataframe thead th {\n",
              "        text-align: right;\n",
              "    }\n",
              "</style>\n",
              "<table border=\"1\" class=\"dataframe\">\n",
              "  <thead>\n",
              "    <tr style=\"text-align: right;\">\n",
              "      <th></th>\n",
              "      <th>total_time</th>\n",
              "    </tr>\n",
              "  </thead>\n",
              "  <tbody>\n",
              "    <tr>\n",
              "      <th>0</th>\n",
              "      <td>15928365</td>\n",
              "    </tr>\n",
              "  </tbody>\n",
              "</table>\n",
              "</div>\n",
              "      <button class=\"colab-df-convert\" onclick=\"convertToInteractive('df-54cc93c5-ed87-48dc-87ed-da241251ff4b')\"\n",
              "              title=\"Convert this dataframe to an interactive table.\"\n",
              "              style=\"display:none;\">\n",
              "        \n",
              "  <svg xmlns=\"http://www.w3.org/2000/svg\" height=\"24px\"viewBox=\"0 0 24 24\"\n",
              "       width=\"24px\">\n",
              "    <path d=\"M0 0h24v24H0V0z\" fill=\"none\"/>\n",
              "    <path d=\"M18.56 5.44l.94 2.06.94-2.06 2.06-.94-2.06-.94-.94-2.06-.94 2.06-2.06.94zm-11 1L8.5 8.5l.94-2.06 2.06-.94-2.06-.94L8.5 2.5l-.94 2.06-2.06.94zm10 10l.94 2.06.94-2.06 2.06-.94-2.06-.94-.94-2.06-.94 2.06-2.06.94z\"/><path d=\"M17.41 7.96l-1.37-1.37c-.4-.4-.92-.59-1.43-.59-.52 0-1.04.2-1.43.59L10.3 9.45l-7.72 7.72c-.78.78-.78 2.05 0 2.83L4 21.41c.39.39.9.59 1.41.59.51 0 1.02-.2 1.41-.59l7.78-7.78 2.81-2.81c.8-.78.8-2.07 0-2.86zM5.41 20L4 18.59l7.72-7.72 1.47 1.35L5.41 20z\"/>\n",
              "  </svg>\n",
              "      </button>\n",
              "      \n",
              "  <style>\n",
              "    .colab-df-container {\n",
              "      display:flex;\n",
              "      flex-wrap:wrap;\n",
              "      gap: 12px;\n",
              "    }\n",
              "\n",
              "    .colab-df-convert {\n",
              "      background-color: #E8F0FE;\n",
              "      border: none;\n",
              "      border-radius: 50%;\n",
              "      cursor: pointer;\n",
              "      display: none;\n",
              "      fill: #1967D2;\n",
              "      height: 32px;\n",
              "      padding: 0 0 0 0;\n",
              "      width: 32px;\n",
              "    }\n",
              "\n",
              "    .colab-df-convert:hover {\n",
              "      background-color: #E2EBFA;\n",
              "      box-shadow: 0px 1px 2px rgba(60, 64, 67, 0.3), 0px 1px 3px 1px rgba(60, 64, 67, 0.15);\n",
              "      fill: #174EA6;\n",
              "    }\n",
              "\n",
              "    [theme=dark] .colab-df-convert {\n",
              "      background-color: #3B4455;\n",
              "      fill: #D2E3FC;\n",
              "    }\n",
              "\n",
              "    [theme=dark] .colab-df-convert:hover {\n",
              "      background-color: #434B5C;\n",
              "      box-shadow: 0px 1px 3px 1px rgba(0, 0, 0, 0.15);\n",
              "      filter: drop-shadow(0px 1px 2px rgba(0, 0, 0, 0.3));\n",
              "      fill: #FFFFFF;\n",
              "    }\n",
              "  </style>\n",
              "\n",
              "      <script>\n",
              "        const buttonEl =\n",
              "          document.querySelector('#df-54cc93c5-ed87-48dc-87ed-da241251ff4b button.colab-df-convert');\n",
              "        buttonEl.style.display =\n",
              "          google.colab.kernel.accessAllowed ? 'block' : 'none';\n",
              "\n",
              "        async function convertToInteractive(key) {\n",
              "          const element = document.querySelector('#df-54cc93c5-ed87-48dc-87ed-da241251ff4b');\n",
              "          const dataTable =\n",
              "            await google.colab.kernel.invokeFunction('convertToInteractive',\n",
              "                                                     [key], {});\n",
              "          if (!dataTable) return;\n",
              "\n",
              "          const docLinkHtml = 'Like what you see? Visit the ' +\n",
              "            '<a target=\"_blank\" href=https://colab.research.google.com/notebooks/data_table.ipynb>data table notebook</a>'\n",
              "            + ' to learn more about interactive tables.';\n",
              "          element.innerHTML = '';\n",
              "          dataTable['output_type'] = 'display_data';\n",
              "          await google.colab.output.renderOutput(dataTable, element);\n",
              "          const docLink = document.createElement('div');\n",
              "          docLink.innerHTML = docLinkHtml;\n",
              "          element.appendChild(docLink);\n",
              "        }\n",
              "      </script>\n",
              "    </div>\n",
              "  </div>\n",
              "  "
            ],
            "text/plain": [
              "   total_time\n",
              "0    15928365"
            ]
          },
          "metadata": {},
          "execution_count": 13
        }
      ]
    },
    {
      "cell_type": "markdown",
      "source": [
        "So obviously I can just divide it out separately and then tell you the years, month... but I want to try and do it in the query.  First im going to try to just calculate the years."
      ],
      "metadata": {
        "id": "qiApPsjxPbkO"
      }
    },
    {
      "cell_type": "code",
      "source": [
        "%%bigquery --project data-viz-338716\n",
        "SELECT total_time/60/24/365 as years\n",
        "FROM (SELECT SUM(duration_minutes) as total_time\n",
        "FROM `bigquery-public-data.austin_bikeshare.bikeshare_trips`\n",
        "WHERE subscriber_type = 'Walk Up')"
      ],
      "metadata": {
        "colab": {
          "base_uri": "https://localhost:8080/",
          "height": 81
        },
        "id": "aqaYHKPpRzKb",
        "outputId": "249b5687-0b44-46c6-ad6d-5a0073fb557f"
      },
      "execution_count": 18,
      "outputs": [
        {
          "output_type": "execute_result",
          "data": {
            "text/html": [
              "\n",
              "  <div id=\"df-2628f871-b0d5-4a8a-80ea-d8d3ae76b5ae\">\n",
              "    <div class=\"colab-df-container\">\n",
              "      <div>\n",
              "<style scoped>\n",
              "    .dataframe tbody tr th:only-of-type {\n",
              "        vertical-align: middle;\n",
              "    }\n",
              "\n",
              "    .dataframe tbody tr th {\n",
              "        vertical-align: top;\n",
              "    }\n",
              "\n",
              "    .dataframe thead th {\n",
              "        text-align: right;\n",
              "    }\n",
              "</style>\n",
              "<table border=\"1\" class=\"dataframe\">\n",
              "  <thead>\n",
              "    <tr style=\"text-align: right;\">\n",
              "      <th></th>\n",
              "      <th>years</th>\n",
              "    </tr>\n",
              "  </thead>\n",
              "  <tbody>\n",
              "    <tr>\n",
              "      <th>0</th>\n",
              "      <td>30.305108</td>\n",
              "    </tr>\n",
              "  </tbody>\n",
              "</table>\n",
              "</div>\n",
              "      <button class=\"colab-df-convert\" onclick=\"convertToInteractive('df-2628f871-b0d5-4a8a-80ea-d8d3ae76b5ae')\"\n",
              "              title=\"Convert this dataframe to an interactive table.\"\n",
              "              style=\"display:none;\">\n",
              "        \n",
              "  <svg xmlns=\"http://www.w3.org/2000/svg\" height=\"24px\"viewBox=\"0 0 24 24\"\n",
              "       width=\"24px\">\n",
              "    <path d=\"M0 0h24v24H0V0z\" fill=\"none\"/>\n",
              "    <path d=\"M18.56 5.44l.94 2.06.94-2.06 2.06-.94-2.06-.94-.94-2.06-.94 2.06-2.06.94zm-11 1L8.5 8.5l.94-2.06 2.06-.94-2.06-.94L8.5 2.5l-.94 2.06-2.06.94zm10 10l.94 2.06.94-2.06 2.06-.94-2.06-.94-.94-2.06-.94 2.06-2.06.94z\"/><path d=\"M17.41 7.96l-1.37-1.37c-.4-.4-.92-.59-1.43-.59-.52 0-1.04.2-1.43.59L10.3 9.45l-7.72 7.72c-.78.78-.78 2.05 0 2.83L4 21.41c.39.39.9.59 1.41.59.51 0 1.02-.2 1.41-.59l7.78-7.78 2.81-2.81c.8-.78.8-2.07 0-2.86zM5.41 20L4 18.59l7.72-7.72 1.47 1.35L5.41 20z\"/>\n",
              "  </svg>\n",
              "      </button>\n",
              "      \n",
              "  <style>\n",
              "    .colab-df-container {\n",
              "      display:flex;\n",
              "      flex-wrap:wrap;\n",
              "      gap: 12px;\n",
              "    }\n",
              "\n",
              "    .colab-df-convert {\n",
              "      background-color: #E8F0FE;\n",
              "      border: none;\n",
              "      border-radius: 50%;\n",
              "      cursor: pointer;\n",
              "      display: none;\n",
              "      fill: #1967D2;\n",
              "      height: 32px;\n",
              "      padding: 0 0 0 0;\n",
              "      width: 32px;\n",
              "    }\n",
              "\n",
              "    .colab-df-convert:hover {\n",
              "      background-color: #E2EBFA;\n",
              "      box-shadow: 0px 1px 2px rgba(60, 64, 67, 0.3), 0px 1px 3px 1px rgba(60, 64, 67, 0.15);\n",
              "      fill: #174EA6;\n",
              "    }\n",
              "\n",
              "    [theme=dark] .colab-df-convert {\n",
              "      background-color: #3B4455;\n",
              "      fill: #D2E3FC;\n",
              "    }\n",
              "\n",
              "    [theme=dark] .colab-df-convert:hover {\n",
              "      background-color: #434B5C;\n",
              "      box-shadow: 0px 1px 3px 1px rgba(0, 0, 0, 0.15);\n",
              "      filter: drop-shadow(0px 1px 2px rgba(0, 0, 0, 0.3));\n",
              "      fill: #FFFFFF;\n",
              "    }\n",
              "  </style>\n",
              "\n",
              "      <script>\n",
              "        const buttonEl =\n",
              "          document.querySelector('#df-2628f871-b0d5-4a8a-80ea-d8d3ae76b5ae button.colab-df-convert');\n",
              "        buttonEl.style.display =\n",
              "          google.colab.kernel.accessAllowed ? 'block' : 'none';\n",
              "\n",
              "        async function convertToInteractive(key) {\n",
              "          const element = document.querySelector('#df-2628f871-b0d5-4a8a-80ea-d8d3ae76b5ae');\n",
              "          const dataTable =\n",
              "            await google.colab.kernel.invokeFunction('convertToInteractive',\n",
              "                                                     [key], {});\n",
              "          if (!dataTable) return;\n",
              "\n",
              "          const docLinkHtml = 'Like what you see? Visit the ' +\n",
              "            '<a target=\"_blank\" href=https://colab.research.google.com/notebooks/data_table.ipynb>data table notebook</a>'\n",
              "            + ' to learn more about interactive tables.';\n",
              "          element.innerHTML = '';\n",
              "          dataTable['output_type'] = 'display_data';\n",
              "          await google.colab.output.renderOutput(dataTable, element);\n",
              "          const docLink = document.createElement('div');\n",
              "          docLink.innerHTML = docLinkHtml;\n",
              "          element.appendChild(docLink);\n",
              "        }\n",
              "      </script>\n",
              "    </div>\n",
              "  </div>\n",
              "  "
            ],
            "text/plain": [
              "       years\n",
              "0  30.305108"
            ]
          },
          "metadata": {},
          "execution_count": 18
        }
      ]
    },
    {
      "cell_type": "markdown",
      "source": [
        "Okay so that does in fact check out, now we need to add the FLOOR() function in order to show just the actual full years. Then from there we will see if we can't get the months ... minutes."
      ],
      "metadata": {
        "id": "SDp_f9lzSBZa"
      }
    },
    {
      "cell_type": "code",
      "source": [
        "%%bigquery --project data-viz-338716\n",
        "SELECT FLOOR(total_time/60/24/365) as years, FLOOR(MOD(total_time/60/24/365)*12) as months\n",
        "FROM (SELECT SUM(duration_minutes) as total_time\n",
        "FROM `bigquery-public-data.austin_bikeshare.bikeshare_trips`\n",
        "WHERE subscriber_type = 'Walk Up')"
      ],
      "metadata": {
        "colab": {
          "base_uri": "https://localhost:8080/"
        },
        "id": "XfF7bWd3PkPq",
        "outputId": "60251fa7-34a4-4ec8-904e-eb137dbd1bca"
      },
      "execution_count": 21,
      "outputs": [
        {
          "output_type": "stream",
          "name": "stdout",
          "text": [
            "Executing query with job ID: ce0daf34-2ed0-40b1-8344-b32929c834e6\n",
            "\rQuery executing: 0.25s"
          ]
        },
        {
          "output_type": "stream",
          "name": "stderr",
          "text": [
            "\n",
            "ERROR:\n",
            " 400 No matching signature for function MOD for argument types: INT64. Supported signatures: MOD(INT64, INT64); MOD(NUMERIC, NUMERIC); MOD(BIGNUMERIC, BIGNUMERIC) at [1:46]\n",
            "\n",
            "(job ID: ce0daf34-2ed0-40b1-8344-b32929c834e6)\n",
            "\n",
            "                      -----Query Job SQL Follows-----                      \n",
            "\n",
            "    |    .    |    .    |    .    |    .    |    .    |    .    |    .    |\n",
            "   1:SELECT FLOOR(total_time/60/24/365) as years, MOD(total_time) as months\n",
            "   2:FROM (SELECT SUM(duration_minutes) as total_time\n",
            "   3:FROM `bigquery-public-data.austin_bikeshare.bikeshare_trips`\n",
            "   4:WHERE subscriber_type = 'Walk Up')\n",
            "    |    .    |    .    |    .    |    .    |    .    |    .    |    .    |\n"
          ]
        }
      ]
    },
    {
      "cell_type": "markdown",
      "source": [
        "Alright.....So I wanted grab the remainder off the years by using MOD() but apparently it doesn't like that..not sure where to go next at the moment."
      ],
      "metadata": {
        "id": "WVkYHO2CRwUt"
      }
    },
    {
      "cell_type": "markdown",
      "source": [
        "Okay so after looking closer it looks like I'm using the MOD() function wrong! it is supposed to be MOD(x, y) where x is divided by y. Let's try this again."
      ],
      "metadata": {
        "id": "wBA5Y0tzTNWT"
      }
    },
    {
      "cell_type": "code",
      "source": [
        "%%bigquery --project data-viz-338716\n",
        "SELECT FLOOR(total_time/60/24/365) as years, FLOOR(MOD(total_time, (60/24/365))*12) as months\n",
        "FROM (SELECT SUM(duration_minutes) as total_time\n",
        "FROM `bigquery-public-data.austin_bikeshare.bikeshare_trips`\n",
        "WHERE subscriber_type = 'Walk Up')"
      ],
      "metadata": {
        "colab": {
          "base_uri": "https://localhost:8080/"
        },
        "id": "MWZESIUaTX7h",
        "outputId": "9784abc1-8b20-4de2-c41e-967d87df9690"
      },
      "execution_count": 23,
      "outputs": [
        {
          "output_type": "stream",
          "name": "stdout",
          "text": [
            "Executing query with job ID: 7117e573-afa6-4762-aa5e-d8a71393259c\n",
            "\rQuery executing: 0.27s"
          ]
        },
        {
          "output_type": "stream",
          "name": "stderr",
          "text": [
            "\n",
            "ERROR:\n",
            " 400 No matching signature for function MOD for argument types: INT64, FLOAT64. Supported signatures: MOD(INT64, INT64); MOD(NUMERIC, NUMERIC); MOD(BIGNUMERIC, BIGNUMERIC) at [1:52]\n",
            "\n",
            "(job ID: 7117e573-afa6-4762-aa5e-d8a71393259c)\n",
            "\n",
            "                                 -----Query Job SQL Follows-----                                  \n",
            "\n",
            "    |    .    |    .    |    .    |    .    |    .    |    .    |    .    |    .    |    .    |\n",
            "   1:SELECT FLOOR(total_time/60/24/365) as years, FLOOR(MOD(total_time, (60/24/365))*12) as months\n",
            "   2:FROM (SELECT SUM(duration_minutes) as total_time\n",
            "   3:FROM `bigquery-public-data.austin_bikeshare.bikeshare_trips`\n",
            "   4:WHERE subscriber_type = 'Walk Up')\n",
            "    |    .    |    .    |    .    |    .    |    .    |    .    |    .    |    .    |    .    |\n"
          ]
        }
      ]
    },
    {
      "cell_type": "markdown",
      "source": [
        "So the second part im trying to use is a float..not really sure where to continue but I did see that there is a datetime function (might not be a function but it exists).  Im not sure of how to use it but we will see if maybe we can use that to convert the minutes? probably not.\n",
        "\n",
        "Upon even further inspection, date time is not what we need because it reads it as an actual calendar date rather than an amount of time."
      ],
      "metadata": {
        "id": "KgsK-KnKUmPb"
      }
    },
    {
      "cell_type": "markdown",
      "source": [
        "I have worked on this over an hour and a half in total and can not seem to figure out how to either A. grab just the decimal portion of a number to work with or B. find a function that does the work for me.  I have officially been stumped."
      ],
      "metadata": {
        "id": "fS7EV0hhV-vM"
      }
    },
    {
      "cell_type": "code",
      "source": [
        ""
      ],
      "metadata": {
        "id": "1xtqc_RBWKpH"
      },
      "execution_count": null,
      "outputs": []
    }
  ]
}