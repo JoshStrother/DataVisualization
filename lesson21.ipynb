{
  "nbformat": 4,
  "nbformat_minor": 0,
  "metadata": {
    "colab": {
      "name": "lesson21.ipynb",
      "provenance": [],
      "authorship_tag": "ABX9TyNha/cGC90Ou86w6U3T35L2",
      "include_colab_link": true
    },
    "kernelspec": {
      "name": "python3",
      "display_name": "Python 3"
    },
    "language_info": {
      "name": "python"
    }
  },
  "cells": [
    {
      "cell_type": "markdown",
      "metadata": {
        "id": "view-in-github",
        "colab_type": "text"
      },
      "source": [
        "<a href=\"https://colab.research.google.com/github/JoshStrother/DataVisualization/blob/main/lesson21.ipynb\" target=\"_parent\"><img src=\"https://colab.research.google.com/assets/colab-badge.svg\" alt=\"Open In Colab\"/></a>"
      ]
    },
    {
      "cell_type": "markdown",
      "source": [
        "Here is the John Snow Cholera Map\n",
        "\n",
        "![john snow cholera](https://learn.arcgis.com/en/projects/map-a-historic-cholera-outbreak/GUID-3CA27B42-F093-4FE5-B4DA-72D15877BE8A-web.png)\n",
        "\n",
        "gathered from arcgis.com"
      ],
      "metadata": {
        "id": "fg4pkFxLz4Cu"
      }
    },
    {
      "cell_type": "markdown",
      "source": [
        "For the graphical exellence, it does infact show data with the dark spots being where there are more cases.  It does not do a good job of showing how many cases total or why there are spaces that apparently have 0 cases.  Some of the places don't make sense to have little to no cases.  There isnt much explaining in the graph at all actually, but is a nice little depiction of a larger area."
      ],
      "metadata": {
        "id": "0kPB1CDb0GMa"
      }
    },
    {
      "cell_type": "markdown",
      "source": [
        "Obviously a closely related example is covid cases.  So im going to get the cases by county in Oklahoma.\n",
        "\n",
        "![OK case by county Mayo Clinic](https://www.mayoclinic.org/~/media/web/gbs/shared/images/socialmedia-metadata/covid-maps/twitter/oklahoma.png?v=5)"
      ],
      "metadata": {
        "id": "LqeshIVj08-A"
      }
    },
    {
      "cell_type": "markdown",
      "source": [
        "This does show data, but it isnt all to clear how many cases exactly there are.  The groups are one solid color and the change for each is not constant (5, 15, 25, 25, 25) The image it self doesn't state whether this is ones, tens, hundres, thousands, millions etc.  This is broad of the sense of numbers and area because its grouped by counties and not down to the individual towns.  The graphic does have a clear purpose of displaying amount of cases, its just not very descriptive."
      ],
      "metadata": {
        "id": "4ItTvCwZ1Itr"
      }
    },
    {
      "cell_type": "code",
      "source": [
        ""
      ],
      "metadata": {
        "id": "uTbrSU8i2dka"
      },
      "execution_count": null,
      "outputs": []
    }
  ]
}