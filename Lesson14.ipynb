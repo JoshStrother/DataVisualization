{
  "nbformat": 4,
  "nbformat_minor": 0,
  "metadata": {
    "colab": {
      "name": "Lesson14.ipynb",
      "provenance": [],
      "authorship_tag": "ABX9TyNJgd36ZVgEKqoyNO3OwD8m",
      "include_colab_link": true
    },
    "kernelspec": {
      "name": "python3",
      "display_name": "Python 3"
    },
    "language_info": {
      "name": "python"
    }
  },
  "cells": [
    {
      "cell_type": "markdown",
      "metadata": {
        "id": "view-in-github",
        "colab_type": "text"
      },
      "source": [
        "<a href=\"https://colab.research.google.com/github/JoshStrother/DataVisualization/blob/main/Lesson14.ipynb\" target=\"_parent\"><img src=\"https://colab.research.google.com/assets/colab-badge.svg\" alt=\"Open In Colab\"/></a>"
      ]
    },
    {
      "cell_type": "markdown",
      "source": [
        "This is my first attempt, I think it will be easiest to get the phrases set to a variable and then just print a short line of variables."
      ],
      "metadata": {
        "id": "KFTrzsDqCmte"
      }
    },
    {
      "cell_type": "code",
      "execution_count": 4,
      "metadata": {
        "colab": {
          "base_uri": "https://localhost:8080/"
        },
        "id": "xERv-nccBvak",
        "outputId": "292165e3-9ab3-4f75-cbec-2bc01a63679b"
      },
      "outputs": [
        {
          "output_type": "stream",
          "name": "stdout",
          "text": [
            "Happy birthday to you. Happy birthday to you. Happy birthday dear Joshua. Happy birthday to you. \n"
          ]
        }
      ],
      "source": [
        "hbtu = \"Happy birthday to you. \"\n",
        "hbd = 'Happy birthday dear '\n",
        "name = 'Joshua'+'. '\n",
        "print (hbtu*2 + hbd + name + hbtu)"
      ]
    },
    {
      "cell_type": "markdown",
      "source": [
        "Looking at that it seems to be realatively short.  But I can combine the . and space in the hbd string.  Every sentence starts with Happy Birthday so there might be a way to make that an addon to every sentence.  I want to try a for loop on an array and see how that goes."
      ],
      "metadata": {
        "id": "c7_YLuMbCzGW"
      }
    },
    {
      "cell_type": "code",
      "source": [
        "phrase = ['to you. ', 'to you. ', 'dear Joshua. ', 'to you. ']\n",
        "hbd = 'Happy birthday '\n",
        "for i in phrase:\n",
        "    print (hbd + i)"
      ],
      "metadata": {
        "colab": {
          "base_uri": "https://localhost:8080/"
        },
        "id": "oPW61pWQCTLe",
        "outputId": "1cfec68c-d03d-4aaf-b052-65d3dccdd3c5"
      },
      "execution_count": 28,
      "outputs": [
        {
          "output_type": "stream",
          "name": "stdout",
          "text": [
            "Happy birthday to you. \n",
            "Happy birthday to you. \n",
            "Happy birthday dear Joshua. \n",
            "Happy birthday to you. \n"
          ]
        }
      ]
    },
    {
      "cell_type": "markdown",
      "source": [
        "Initially I wanted to use 'to you. ' once in the array and the reuse it later on but I could not get my loops to work the way I needed it to. This was my final result and was still 4 lines unfortunately."
      ],
      "metadata": {
        "id": "l_kVKh57GW_M"
      }
    },
    {
      "cell_type": "code",
      "source": [
        ""
      ],
      "metadata": {
        "id": "3BDhDZb3GZX3"
      },
      "execution_count": null,
      "outputs": []
    }
  ]
}