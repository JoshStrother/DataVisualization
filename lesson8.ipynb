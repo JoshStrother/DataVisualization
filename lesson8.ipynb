{
  "nbformat": 4,
  "nbformat_minor": 0,
  "metadata": {
    "colab": {
      "name": "lesson8.ipynb",
      "provenance": [],
      "authorship_tag": "ABX9TyM0xGtgwhiESOGyoEKy9Zi+",
      "include_colab_link": true
    },
    "kernelspec": {
      "name": "python3",
      "display_name": "Python 3"
    },
    "language_info": {
      "name": "python"
    }
  },
  "cells": [
    {
      "cell_type": "markdown",
      "metadata": {
        "id": "view-in-github",
        "colab_type": "text"
      },
      "source": [
        "<a href=\"https://colab.research.google.com/github/JoshStrother/DataVisualization/blob/main/lesson8.ipynb\" target=\"_parent\"><img src=\"https://colab.research.google.com/assets/colab-badge.svg\" alt=\"Open In Colab\"/></a>"
      ]
    },
    {
      "cell_type": "code",
      "execution_count": 1,
      "metadata": {
        "id": "7-AjAKuix7TF"
      },
      "outputs": [],
      "source": [
        "import requests\n",
        "import pandas as pa\n",
        "from bs4 import BeautifulSoup"
      ]
    },
    {
      "cell_type": "markdown",
      "source": [
        "Importing the good stuff ↑"
      ],
      "metadata": {
        "id": "S5zZ3d6DyF4g"
      }
    },
    {
      "cell_type": "markdown",
      "source": [
        "Importing the better stuff ↓"
      ],
      "metadata": {
        "id": "oR114v1VydYZ"
      }
    },
    {
      "cell_type": "code",
      "source": [
        "r = requests.get('https://en.wikipedia.org/wiki/Adventure_Time')\n",
        "html_contents = r.text\n",
        "html_soup = BeautifulSoup(html_contents,\"lxml\")\n",
        "#html_soup"
      ],
      "metadata": {
        "id": "6F4dunGMyFbm"
      },
      "execution_count": 2,
      "outputs": []
    },
    {
      "cell_type": "markdown",
      "source": [
        "First part of assignment is to display the title."
      ],
      "metadata": {
        "id": "YXlgskfqym-p"
      }
    },
    {
      "cell_type": "code",
      "source": [
        "html_soup.title"
      ],
      "metadata": {
        "colab": {
          "base_uri": "https://localhost:8080/"
        },
        "id": "XUi0EsdDypCd",
        "outputId": "e3da15cd-83ea-4724-a355-990bb7a05c63"
      },
      "execution_count": 3,
      "outputs": [
        {
          "output_type": "execute_result",
          "data": {
            "text/plain": [
              "<title>Adventure Time - Wikipedia</title>"
            ]
          },
          "metadata": {},
          "execution_count": 3
        }
      ]
    },
    {
      "cell_type": "markdown",
      "source": [
        "Looks right to me :)"
      ],
      "metadata": {
        "id": "Wpb2a2GvyrT3"
      }
    },
    {
      "cell_type": "markdown",
      "source": [
        "Now we gather all the links from the side table and display in a list"
      ],
      "metadata": {
        "id": "W3jBgpw1zAl9"
      }
    },
    {
      "cell_type": "code",
      "source": [
        "html_soup.table.find_all('a')"
      ],
      "metadata": {
        "colab": {
          "base_uri": "https://localhost:8080/"
        },
        "id": "yE-kgyQHyqYe",
        "outputId": "e4fd1a42-5db0-4d31-c48f-3702c88a6837"
      },
      "execution_count": 12,
      "outputs": [
        {
          "output_type": "execute_result",
          "data": {
            "text/plain": [
              "[<a class=\"image\" href=\"/wiki/File:Adventure_Time_-_Title_card.png\" title=\"The image depicts a cartoon boy posing on the top of a mountain. A dog is at his feet.\"><img alt=\"The image depicts a cartoon boy posing on the top of a mountain. A dog is at his feet.\" data-file-height=\"238\" data-file-width=\"420\" decoding=\"async\" height=\"164\" src=\"//upload.wikimedia.org/wikipedia/en/thumb/3/37/Adventure_Time_-_Title_card.png/290px-Adventure_Time_-_Title_card.png\" srcset=\"//upload.wikimedia.org/wikipedia/en/3/37/Adventure_Time_-_Title_card.png 1.5x\" width=\"290\"/></a>,\n",
              " <a href=\"/wiki/Science_fantasy\" title=\"Science fantasy\">Science fantasy</a>,\n",
              " <a href=\"#cite_note-fantasty2future-1\">[1]</a>,\n",
              " <a href=\"/wiki/Adventure_fiction\" title=\"Adventure fiction\">Adventure</a>,\n",
              " <a class=\"mw-redirect\" href=\"/wiki/Surreal_comedy\" title=\"Surreal comedy\">Surreal comedy</a>,\n",
              " <a href=\"#cite_note-2\">[2]</a>,\n",
              " <a href=\"/wiki/Coming_of_age\" title=\"Coming of age\">Coming of age</a>,\n",
              " <a href=\"#cite_note-3\">[3]</a>,\n",
              " <a href=\"/wiki/Comedy-drama\" title=\"Comedy-drama\">Comedy-drama</a>,\n",
              " <a href=\"/wiki/Pendleton_Ward\" title=\"Pendleton Ward\">Pendleton Ward</a>,\n",
              " <a href=\"/wiki/Larry_Leichliter\" title=\"Larry Leichliter\">Larry Leichliter</a>,\n",
              " <a href=\"#cite_note-note1-5\">[a]</a>,\n",
              " <a href=\"/wiki/Jeremy_Shada\" title=\"Jeremy Shada\">Jeremy Shada</a>,\n",
              " <a href=\"/wiki/John_DiMaggio\" title=\"John DiMaggio\">John DiMaggio</a>,\n",
              " <a href=\"/wiki/Hynden_Walch\" title=\"Hynden Walch\">Hynden Walch</a>,\n",
              " <a href=\"/wiki/Niki_Yang\" title=\"Niki Yang\">Niki Yang</a>,\n",
              " <a href=\"/wiki/Tom_Kenny\" title=\"Tom Kenny\">Tom Kenny</a>,\n",
              " <a href=\"/wiki/Olivia_Olson\" title=\"Olivia Olson\">Olivia Olson</a>,\n",
              " <a href=\"/wiki/Jessica_DiCicco\" title=\"Jessica DiCicco\">Jessica DiCicco</a>,\n",
              " <a class=\"external autonumber\" href=\"https://en.wikipedia.org/wiki/Adventure_Time#endnote_seasons8-9\">[1]</a>,\n",
              " <a href=\"#cite_note-6\">[5]</a>,\n",
              " <a href=\"#cite_note-note5-7\">[b]</a>,\n",
              " <a href=\"/wiki/List_of_Adventure_Time_episodes\" title=\"List of Adventure Time episodes\">list of episodes</a>,\n",
              " <a href=\"/wiki/Fred_Seibert\" title=\"Fred Seibert\">Fred Seibert</a>,\n",
              " <a href=\"/wiki/Derek_Drymon\" title=\"Derek Drymon\">Derek Drymon</a>,\n",
              " <a href=\"/wiki/Brian_A._Miller\" title=\"Brian A. Miller\">Brian A. Miller</a>,\n",
              " <a href=\"/wiki/Rob_Sorcher\" title=\"Rob Sorcher\">Rob Sorcher</a>,\n",
              " <a href=\"/wiki/Frederator_Studios\" title=\"Frederator Studios\">Frederator Studios</a>,\n",
              " <a href=\"/wiki/Cartoon_Network_Studios\" title=\"Cartoon Network Studios\">Cartoon Network Studios</a>,\n",
              " <a class=\"mw-redirect\" href=\"/wiki/Warner_Bros._Television_Distribution\" title=\"Warner Bros. Television Distribution\">Warner Bros. Television Distribution</a>,\n",
              " <a href=\"/wiki/Cartoon_Network\" title=\"Cartoon Network\">Cartoon Network</a>,\n",
              " <a href=\"/wiki/NTSC\" title=\"NTSC\">NTSC</a>,\n",
              " <a class=\"mw-redirect\" href=\"/wiki/HDTV\" title=\"HDTV\">HDTV</a>,\n",
              " <a href=\"/wiki/1080i\" title=\"1080i\">1080i</a>,\n",
              " <a href=\"/wiki/Nicktoons_(American_TV_channel)\" title=\"Nicktoons (American TV channel)\">Nicktoons</a>,\n",
              " <a href=\"/wiki/Adventure_Time:_Distant_Lands\" title=\"Adventure Time: Distant Lands\">Adventure Time: Distant Lands</a>,\n",
              " <a href=\"/wiki/Random!_Cartoons\" title=\"Random! Cartoons\">Random! Cartoons</a>,\n",
              " <a class=\"external text\" href=\"http://www.cartoonnetwork.com/video/adventuretime/index.html\" rel=\"nofollow\">Website</a>,\n",
              " <a class=\"external text\" href=\"https://kingofooo.tumblr.com\" rel=\"nofollow\">Production website</a>]"
            ]
          },
          "metadata": {},
          "execution_count": 12
        }
      ]
    },
    {
      "cell_type": "markdown",
      "source": [
        "This seems to align with the given links shown in the table I was looking at."
      ],
      "metadata": {
        "id": "MatEMK_L07D_"
      }
    },
    {
      "cell_type": "code",
      "source": [
        ""
      ],
      "metadata": {
        "id": "Aj4fnRiq0-u2"
      },
      "execution_count": null,
      "outputs": []
    }
  ]
}