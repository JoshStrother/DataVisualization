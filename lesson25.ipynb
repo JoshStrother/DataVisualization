{
  "nbformat": 4,
  "nbformat_minor": 0,
  "metadata": {
    "colab": {
      "name": "lesson25.ipynb",
      "provenance": [],
      "collapsed_sections": [],
      "authorship_tag": "ABX9TyPHXg0EON55ut8ntGuATUpS",
      "include_colab_link": true
    },
    "kernelspec": {
      "name": "python3",
      "display_name": "Python 3"
    },
    "language_info": {
      "name": "python"
    }
  },
  "cells": [
    {
      "cell_type": "markdown",
      "metadata": {
        "id": "view-in-github",
        "colab_type": "text"
      },
      "source": [
        "<a href=\"https://colab.research.google.com/github/JoshStrother/DataVisualization/blob/main/lesson25.ipynb\" target=\"_parent\"><img src=\"https://colab.research.google.com/assets/colab-badge.svg\" alt=\"Open In Colab\"/></a>"
      ]
    },
    {
      "cell_type": "markdown",
      "source": [
        "First we need to import our data and pandas."
      ],
      "metadata": {
        "id": "6ndnw1VcNHOs"
      }
    },
    {
      "cell_type": "code",
      "execution_count": 1,
      "metadata": {
        "id": "AL6IGX83I61M"
      },
      "outputs": [],
      "source": [
        "import pandas as pa\n",
        "\n",
        "df = pa.read_csv('https://raw.githubusercontent.com/nurfnick/Data_Viz/main/AB_NYC_2019.csv')"
      ]
    },
    {
      "cell_type": "markdown",
      "source": [
        "Now for the first part we will do a histogram of the price."
      ],
      "metadata": {
        "id": "khMaxKcLNLTR"
      }
    },
    {
      "cell_type": "code",
      "source": [
        "df['price'].hist()\n"
      ],
      "metadata": {
        "colab": {
          "base_uri": "https://localhost:8080/",
          "height": 282
        },
        "id": "k1gUqEFEKLnF",
        "outputId": "2457cbd4-3435-4134-c9a9-af83fa919840"
      },
      "execution_count": 3,
      "outputs": [
        {
          "output_type": "execute_result",
          "data": {
            "text/plain": [
              "<matplotlib.axes._subplots.AxesSubplot at 0x7fc972c5d190>"
            ]
          },
          "metadata": {},
          "execution_count": 3
        },
        {
          "output_type": "display_data",
          "data": {
            "text/plain": [
              "<Figure size 432x288 with 1 Axes>"
            ],
            "image/png": "[encoded data removed]"
          },
          "metadata": {
            "needs_background": "light"
          }
        }
      ]
    },
    {
      "cell_type": "markdown",
      "source": [
        "This shows the frequency on the y-axis and the price on the x-axis.  Not the best graphic."
      ],
      "metadata": {
        "id": "tCOkgRKDNPLu"
      }
    },
    {
      "cell_type": "code",
      "source": [
        "df['price'].hist(by = df['neighbourhood_group'])"
      ],
      "metadata": {
        "colab": {
          "base_uri": "https://localhost:8080/",
          "height": 417
        },
        "id": "M0Gy_LMrI_iZ",
        "outputId": "36a1ce48-6164-4d52-eb76-9c92b3bfc2ee"
      },
      "execution_count": 4,
      "outputs": [
        {
          "output_type": "execute_result",
          "data": {
            "text/plain": [
              "array([[<matplotlib.axes._subplots.AxesSubplot object at 0x7fc972533390>,\n",
              "        <matplotlib.axes._subplots.AxesSubplot object at 0x7fc972482850>],\n",
              "       [<matplotlib.axes._subplots.AxesSubplot object at 0x7fc972436e50>,\n",
              "        <matplotlib.axes._subplots.AxesSubplot object at 0x7fc9723f9490>],\n",
              "       [<matplotlib.axes._subplots.AxesSubplot object at 0x7fc9723afa90>,\n",
              "        <matplotlib.axes._subplots.AxesSubplot object at 0x7fc9723750d0>]],\n",
              "      dtype=object)"
            ]
          },
          "metadata": {},
          "execution_count": 4
        },
        {
          "output_type": "display_data",
          "data": {
            "text/plain": [
              "<Figure size 432x288 with 6 Axes>"
            ],
            "image/png": "[encoded data removed]"
          },
          "metadata": {
            "needs_background": "light"
          }
        }
      ]
    },
    {
      "cell_type": "markdown",
      "source": [
        "This is not quite what I wanted it to do."
      ],
      "metadata": {
        "id": "Ai_AVGdNTJdK"
      }
    },
    {
      "cell_type": "code",
      "source": [
        ""
      ],
      "metadata": {
        "id": "CFXRo16kLOWo"
      },
      "execution_count": null,
      "outputs": []
    }
  ]
}